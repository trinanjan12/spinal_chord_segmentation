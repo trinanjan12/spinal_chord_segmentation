{
 "cells": [
  {
   "cell_type": "code",
   "execution_count": 1,
   "metadata": {
    "ExecuteTime": {
     "end_time": "2021-01-31T15:23:46.680277Z",
     "start_time": "2021-01-31T15:23:46.678721Z"
    }
   },
   "outputs": [],
   "source": [
    "# Obective\n",
    "# Dataset\n",
    "# Approaches\n",
    "# TODO"
   ]
  },
  {
   "cell_type": "markdown",
   "metadata": {},
   "source": [
    "# Obective\n",
    "Given axial spine mri image we need to determine the canal diameter  \n",
    "![axial_canal_diameter](./images/axial_canal_diameter.png)"
   ]
  },
  {
   "cell_type": "markdown",
   "metadata": {},
   "source": [
    "# Dataset\n",
    "\n",
    "- Dataset used is https://data.mendeley.com/datasets/zbf6b4pttk/2 \n",
    "- Total number of spinal axial MRI images are 1545\n",
    "- The images annotations are shown below\n",
    "- 1) Intervertebral Disc (IVD) --> labeled with red color in the image shown below\n",
    "- 2) Posterior Element (PE) --> labeled with green color in the image shown below\n",
    "- 3) Thecal Sac (TS) and --> labeled with blue color in the image shown below\n",
    "- 4) the Area between Anterior and Posterior (AAP) vertebrae elements. --> labeled with yellow color in the image shown below\n",
    "\n",
    "![](./images/dataset_label.png)"
   ]
  },
  {
   "cell_type": "markdown",
   "metadata": {},
   "source": [
    "# 1. Image segmentation using a UNET model\n",
    "\n",
    "### Details:\n",
    "- I have used a UNET model since It is generally used for biomedical segmentation\n",
    "- Loss function used was Dice loss since It helps with balanced segmentation\n",
    "- Notebook link for training-> ##todo\n",
    "- Notebook link for testing segmentation-> ##todo\n",
    "- Notebook link for find diameter of the canal-> ##todo\n",
    "\n",
    "### Results:\n",
    "- The results are highly dependent on the accuracy of the segmentation model"
   ]
  },
  {
   "cell_type": "markdown",
   "metadata": {},
   "source": [
    "# 2. Find canal diameter\n",
    "\n",
    "- Once we have image parts correctly segmented , we can use geometry to find the canal diameter\n",
    "- We need to find the minimum point of the red area(Intervertebral Disc (IVD)) and the minimum point of the area between Anterior and Posterior (AAP) vertebrae elements (yellow area).\n",
    "- The distance between these 2 points will be the canal diameter"
   ]
  },
  {
   "cell_type": "code",
   "execution_count": null,
   "metadata": {},
   "outputs": [],
   "source": []
  }
 ],
 "metadata": {
  "kernelspec": {
   "display_name": "pytorch",
   "language": "python",
   "name": "pytorch"
  },
  "language_info": {
   "codemirror_mode": {
    "name": "ipython",
    "version": 3
   },
   "file_extension": ".py",
   "mimetype": "text/x-python",
   "name": "python",
   "nbconvert_exporter": "python",
   "pygments_lexer": "ipython3",
   "version": "3.8.5"
  }
 },
 "nbformat": 4,
 "nbformat_minor": 4
}
