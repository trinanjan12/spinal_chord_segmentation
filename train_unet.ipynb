{
 "cells": [
  {
   "cell_type": "markdown",
   "metadata": {},
   "source": [
    "# Spinal chord segmentation using UNET\n",
    "## This notebook has the follwing topics\n",
    "\n",
    "1. Dataset preprocessing\n",
    "2. Create dataloader¶\n",
    "3. UNET architecture\n",
    "4. DICE loss\n",
    "5. Training the model \n"
   ]
  },
  {
   "cell_type": "code",
   "execution_count": 1,
   "metadata": {
    "ExecuteTime": {
     "end_time": "2021-02-07T18:27:02.571852Z",
     "start_time": "2021-02-07T18:27:02.085240Z"
    }
   },
   "outputs": [],
   "source": [
    "from PIL import Image\n",
    "from matplotlib import pyplot as plt\n",
    "from glob import glob as glob\n",
    "import numpy as np\n",
    "import cv2\n",
    "import random\n",
    "import os\n",
    "import time\n",
    "import copy\n",
    "from collections import defaultdict\n",
    "from tqdm import tqdm as tqdm\n",
    "\n",
    "import torch\n",
    "import torch.optim as optim\n",
    "from torch.optim import lr_scheduler\n",
    "from torch.utils.data import Dataset, DataLoader\n",
    "from torchvision import transforms\n",
    "import torch.nn.functional as F\n",
    "from torchvision import transforms\n",
    "from torchvision import models\n",
    "import torch.nn as nn\n",
    "from torchsummary import summary"
   ]
  },
  {
   "cell_type": "markdown",
   "metadata": {},
   "source": [
    "# 1. Dataset preprocessing "
   ]
  },
  {
   "cell_type": "code",
   "execution_count": 2,
   "metadata": {
    "ExecuteTime": {
     "end_time": "2021-02-07T18:27:07.196825Z",
     "start_time": "2021-02-07T18:27:07.173315Z"
    }
   },
   "outputs": [],
   "source": [
    "## GLOBAL SETTINGS\n",
    "\n",
    "random.seed(0)\n",
    "im_w_training = 256\n",
    "im_h_training = 256\n",
    "b_size = 8\n",
    "EPOCHS = 40\n",
    "num_class = 6\n",
    "device = torch.device(\"cuda\" if torch.cuda.is_available() else \"cpu\")\n",
    "test_train_split = .95"
   ]
  },
  {
   "cell_type": "code",
   "execution_count": 3,
   "metadata": {
    "ExecuteTime": {
     "end_time": "2021-02-07T18:27:07.984117Z",
     "start_time": "2021-02-07T18:27:07.981018Z"
    }
   },
   "outputs": [],
   "source": [
    "## HELPER FUNCTIONS\n",
    "\n",
    "\n",
    "def make_dataset(dir):\n",
    "    images = []\n",
    "    assert os.path.isdir(dir), '%s is not a valid directory' % dir\n",
    "\n",
    "    for root, _, fnames in sorted(os.walk(dir)):\n",
    "        for fname in fnames:\n",
    "            if is_image_file(fname):\n",
    "                path = os.path.join(root, fname)\n",
    "                images.append(path)\n",
    "\n",
    "    return images\n",
    "\n",
    "\n",
    "def is_image_file(filename):\n",
    "    return any(filename.endswith(extension) for extension in IMG_EXTENSIONS)\n",
    "\n",
    "\n",
    "IMG_EXTENSIONS = [\n",
    "    '.jpg', '.JPG', '.jpeg', '.JPEG', '.png', '.PNG', '.ppm', '.PPM', '.bmp',\n",
    "    '.BMP', '.tiff'\n",
    "]"
   ]
  },
  {
   "cell_type": "code",
   "execution_count": 4,
   "metadata": {
    "ExecuteTime": {
     "end_time": "2021-02-07T18:27:09.221692Z",
     "start_time": "2021-02-07T18:27:09.212851Z"
    }
   },
   "outputs": [],
   "source": [
    "## TRAIN TEST SPLIT\n",
    "\n",
    "org_imgs = glob(\n",
    "    '../experiments/dataset/05_Final_Ground_Truth_Data/Composite_Images/*')\n",
    "lable_imgs = glob(\n",
    "    '../experiments/dataset/05_Final_Ground_Truth_Data/Label_Images/*')\n",
    "\n",
    "temp = list(zip(org_imgs, lable_imgs))\n",
    "random.shuffle(temp)\n",
    "\n",
    "org_imgs, lable_imgs = zip(*temp)\n",
    "\n",
    "split_size = int(test_train_split * len(org_imgs))\n",
    "\n",
    "train_org_imgs, val_org_imgs = org_imgs[0:split_size], org_imgs[split_size:-1]\n",
    "train_lable_imgs, val_lable_imgs = lable_imgs[0:split_size], lable_imgs[\n",
    "    split_size:-1]"
   ]
  },
  {
   "cell_type": "code",
   "execution_count": 5,
   "metadata": {
    "ExecuteTime": {
     "end_time": "2021-02-07T18:27:09.608168Z",
     "start_time": "2021-02-07T18:27:09.602410Z"
    }
   },
   "outputs": [
    {
     "name": "stdout",
     "output_type": "stream",
     "text": [
      "Total training samples --> 1467\n",
      "Total validation samples --> 77\n"
     ]
    }
   ],
   "source": [
    "print('Total training samples --> {}'.format(len(train_org_imgs)))\n",
    "print('Total validation samples --> {}'.format(len(val_org_imgs)))"
   ]
  },
  {
   "cell_type": "markdown",
   "metadata": {},
   "source": [
    "# 2. Create dataloader"
   ]
  },
  {
   "cell_type": "code",
   "execution_count": 6,
   "metadata": {
    "ExecuteTime": {
     "end_time": "2021-02-07T18:27:10.511317Z",
     "start_time": "2021-02-07T18:27:10.503567Z"
    }
   },
   "outputs": [],
   "source": [
    "class RegularDataset(Dataset):\n",
    "    def __init__(self, original_img_paths, original_seg_paths, augment):\n",
    "\n",
    "        self.transforms = augment\n",
    "\n",
    "        self.img_width = im_w_training\n",
    "        self.img_height = im_h_training\n",
    "\n",
    "        self.A_paths = original_img_paths\n",
    "        self.B_paths = original_seg_paths\n",
    "\n",
    "        self.dataset_size = len(self.A_paths)\n",
    "\n",
    "    def __getitem__(self, index):\n",
    "\n",
    "        # input A (RGB source)\n",
    "        A_path = self.A_paths[index]\n",
    "        A = Image.open(A_path)\n",
    "        A = A.resize((self.img_width, self.img_height), Image.BICUBIC)\n",
    "        A_tensor = self.transforms(A)\n",
    "\n",
    "        # input B (seg map target)\n",
    "        B_path = self.B_paths[index]\n",
    "        B = self.parsing_embedding(B_path)  # channel(20), H, W\n",
    "        B_tensor = torch.from_numpy(B)\n",
    "\n",
    "        input_dict = {\n",
    "            'source_img': A_tensor,\n",
    "            'target_img': B_tensor,\n",
    "            'source_img_path': A_path,\n",
    "            'target_img_path': B_path\n",
    "        }\n",
    "\n",
    "        return input_dict\n",
    "\n",
    "    def parsing_embedding(self, img_path):\n",
    "        test_img = Image.open(img_path)\n",
    "        test_img = test_img.resize((self.img_width, self.img_height),\n",
    "                                   Image.BICUBIC)\n",
    "        test_img = np.array(test_img)\n",
    "        unique_channel_values = [0, 50, 100, 150, 200, 250]\n",
    "        parse_emb = []\n",
    "\n",
    "        for each_channel_val in unique_channel_values:\n",
    "            parse_emb.append(\n",
    "                (test_img == each_channel_val).astype(np.float32).tolist())\n",
    "\n",
    "        parse = np.array(parse_emb).astype(np.float32)\n",
    "        return parse\n",
    "\n",
    "    def __len__(self):\n",
    "        return len(self.A_paths)\n",
    "\n",
    "    def name(self):\n",
    "        return 'RegularDataset'"
   ]
  },
  {
   "cell_type": "code",
   "execution_count": 7,
   "metadata": {
    "ExecuteTime": {
     "end_time": "2021-02-07T18:27:11.276024Z",
     "start_time": "2021-02-07T18:27:11.023239Z"
    }
   },
   "outputs": [
    {
     "name": "stdout",
     "output_type": "stream",
     "text": [
      "Checking  the dimension and type of data\n",
      "name of the input and shape -- >  source_img torch.Size([1, 256, 256])\n",
      "type,dtype,and min max -- > <class 'torch.Tensor'> torch.float32 tensor(-1.) tensor(0.6471)\n",
      "----------------\n",
      "name of the input and shape -- >  target_img torch.Size([6, 256, 256])\n",
      "type,dtype,and min max -- > <class 'torch.Tensor'> torch.float32 tensor(0.) tensor(1.)\n",
      "----------------\n",
      "name of the input -- >  source_img_path ../experiments/dataset/05_Final_Ground_Truth_Data/Composite_Images/C1_0433_D5.png\n",
      "----------------\n",
      "name of the input -- >  target_img_path ../experiments/dataset/05_Final_Ground_Truth_Data/Label_Images/L1_0359_D4.png\n",
      "----------------\n"
     ]
    }
   ],
   "source": [
    "# DEFINE AUGMENTATION\n",
    "\n",
    "augment = transforms.Compose([\n",
    "    transforms.Grayscale(num_output_channels=1),\n",
    "    transforms.ColorJitter(hue=.05, saturation=.05),\n",
    "    transforms.RandomHorizontalFlip(),\n",
    "    transforms.RandomRotation(20, resample=Image.BILINEAR),\n",
    "    transforms.ToTensor(),\n",
    "    transforms.Normalize((0.5, ), (0.5, ))\n",
    "])\n",
    "\n",
    "train_dataset = RegularDataset(train_org_imgs, train_lable_imgs, augment)\n",
    "val_dataset = RegularDataset(val_org_imgs, val_lable_imgs, augment)\n",
    "\n",
    "# CREATE DATALOADER\n",
    "train_dataloader = DataLoader(train_dataset,\n",
    "                              shuffle=True,\n",
    "                              drop_last=False,\n",
    "                              num_workers=6,\n",
    "                              batch_size=b_size,\n",
    "                              pin_memory=True)\n",
    "val_dataloader = DataLoader(val_dataset,\n",
    "                            shuffle=True,\n",
    "                            drop_last=False,\n",
    "                            num_workers=6,\n",
    "                            batch_size=b_size,\n",
    "                            pin_memory=True)\n",
    "\n",
    "# FOR DEBUGGING\n",
    "print(\"Checking  the dimension and type of data\")\n",
    "for key in train_dataset[0].keys():\n",
    "    try:\n",
    "        x = train_dataset[0][key]\n",
    "        print(\"name of the input and shape -- > \", key, x.shape)\n",
    "        print(\"type,dtype,and min max -- >\", type(x), x.dtype, torch.min(x),\n",
    "              torch.max(x))\n",
    "    except Exception as e:\n",
    "        print(\"name of the input -- > \", key, train_dataset[0][key])\n",
    "    print('----------------')"
   ]
  },
  {
   "cell_type": "markdown",
   "metadata": {},
   "source": [
    "# 3. UNET architecture"
   ]
  },
  {
   "cell_type": "code",
   "execution_count": 8,
   "metadata": {
    "ExecuteTime": {
     "end_time": "2021-02-07T18:27:12.699296Z",
     "start_time": "2021-02-07T18:27:12.506600Z"
    }
   },
   "outputs": [],
   "source": [
    "\n",
    "\n",
    "def convrelu(in_channels, out_channels, kernel, padding):\n",
    "    return nn.Sequential(\n",
    "        nn.Conv2d(in_channels, out_channels, kernel, padding=padding),\n",
    "        nn.ReLU(inplace=True),\n",
    "    )\n",
    "\n",
    "\n",
    "base_model = models.resnet18(pretrained=True)\n",
    "base_model.conv1 = torch.nn.Conv2d(1,\n",
    "                                   64,\n",
    "                                   kernel_size=(7, 7),\n",
    "                                   stride=(2, 2),\n",
    "                                   padding=(3, 3),\n",
    "                                   bias=False)\n",
    "\n",
    "\n",
    "class ResNetUNet(nn.Module):\n",
    "    def __init__(self, n_class):\n",
    "        super().__init__()\n",
    "\n",
    "#         self.base_model = models.resnet18(pretrained=False)\n",
    "#         self.base_model.conv1 = torch.nn.Conv2d(1,\n",
    "#                                                 64,\n",
    "#                                                 kernel_size=(7, 7),\n",
    "#                                                 stride=(2, 2),\n",
    "#                                                 padding=(3, 3),\n",
    "#                                                 bias=False)\n",
    "\n",
    "        self.base_layers = list(base_model.children())\n",
    "\n",
    "        self.layer0 = nn.Sequential(\n",
    "            *self.base_layers[:3])  # size=(N, 64, x.H/2, x.W/2)\n",
    "        self.layer0_1x1 = convrelu(64, 64, 1, 0)\n",
    "        self.layer1 = nn.Sequential(\n",
    "            *self.base_layers[3:5])  # size=(N, 64, x.H/4, x.W/4)\n",
    "        self.layer1_1x1 = convrelu(64, 64, 1, 0)\n",
    "        self.layer2 = self.base_layers[5]  # size=(N, 128, x.H/8, x.W/8)\n",
    "        self.layer2_1x1 = convrelu(128, 128, 1, 0)\n",
    "        self.layer3 = self.base_layers[6]  # size=(N, 256, x.H/16, x.W/16)\n",
    "        self.layer3_1x1 = convrelu(256, 256, 1, 0)\n",
    "        self.layer4 = self.base_layers[7]  # size=(N, 512, x.H/32, x.W/32)\n",
    "        self.layer4_1x1 = convrelu(512, 512, 1, 0)\n",
    "\n",
    "        self.upsample = nn.Upsample(scale_factor=2,\n",
    "                                    mode='bilinear',\n",
    "                                    align_corners=True)\n",
    "\n",
    "        self.conv_up3 = convrelu(256 + 512, 512, 3, 1)\n",
    "        self.conv_up2 = convrelu(128 + 512, 256, 3, 1)\n",
    "        self.conv_up1 = convrelu(64 + 256, 256, 3, 1)\n",
    "        self.conv_up0 = convrelu(64 + 256, 128, 3, 1)\n",
    "\n",
    "        self.conv_original_size0 = convrelu(1, 64, 3, 1)\n",
    "        self.conv_original_size1 = convrelu(64, 64, 3, 1)\n",
    "        self.conv_original_size2 = convrelu(64 + 128, 64, 3, 1)\n",
    "\n",
    "        self.conv_last = nn.Conv2d(64, n_class, 1)\n",
    "\n",
    "    def forward(self, input):\n",
    "        x_original = self.conv_original_size0(input)\n",
    "        x_original = self.conv_original_size1(x_original)\n",
    "\n",
    "        layer0 = self.layer0(input)\n",
    "        layer1 = self.layer1(layer0)\n",
    "        layer2 = self.layer2(layer1)\n",
    "        layer3 = self.layer3(layer2)\n",
    "        layer4 = self.layer4(layer3)\n",
    "\n",
    "        layer4 = self.layer4_1x1(layer4)\n",
    "        x = self.upsample(layer4)\n",
    "        layer3 = self.layer3_1x1(layer3)\n",
    "        x = torch.cat([x, layer3], dim=1)\n",
    "        x = self.conv_up3(x)\n",
    "\n",
    "        x = self.upsample(x)\n",
    "        layer2 = self.layer2_1x1(layer2)\n",
    "        x = torch.cat([x, layer2], dim=1)\n",
    "        x = self.conv_up2(x)\n",
    "\n",
    "        x = self.upsample(x)\n",
    "        layer1 = self.layer1_1x1(layer1)\n",
    "        x = torch.cat([x, layer1], dim=1)\n",
    "        x = self.conv_up1(x)\n",
    "\n",
    "        x = self.upsample(x)\n",
    "        layer0 = self.layer0_1x1(layer0)\n",
    "        x = torch.cat([x, layer0], dim=1)\n",
    "        x = self.conv_up0(x)\n",
    "\n",
    "        x = self.upsample(x)\n",
    "        x = torch.cat([x, x_original], dim=1)\n",
    "        x = self.conv_original_size2(x)\n",
    "\n",
    "        out = self.conv_last(x)\n",
    "\n",
    "        return out"
   ]
  },
  {
   "cell_type": "code",
   "execution_count": 9,
   "metadata": {
    "ExecuteTime": {
     "end_time": "2021-02-07T18:27:17.271509Z",
     "start_time": "2021-02-07T18:27:16.026186Z"
    }
   },
   "outputs": [
    {
     "name": "stdout",
     "output_type": "stream",
     "text": [
      "----------------------------------------------------------------\n",
      "        Layer (type)               Output Shape         Param #\n",
      "================================================================\n",
      "            Conv2d-1         [-1, 64, 256, 256]             640\n",
      "              ReLU-2         [-1, 64, 256, 256]               0\n",
      "            Conv2d-3         [-1, 64, 256, 256]          36,928\n",
      "              ReLU-4         [-1, 64, 256, 256]               0\n",
      "            Conv2d-5         [-1, 64, 128, 128]           3,136\n",
      "       BatchNorm2d-6         [-1, 64, 128, 128]             128\n",
      "              ReLU-7         [-1, 64, 128, 128]               0\n",
      "         MaxPool2d-8           [-1, 64, 64, 64]               0\n",
      "            Conv2d-9           [-1, 64, 64, 64]          36,864\n",
      "      BatchNorm2d-10           [-1, 64, 64, 64]             128\n",
      "             ReLU-11           [-1, 64, 64, 64]               0\n",
      "           Conv2d-12           [-1, 64, 64, 64]          36,864\n",
      "      BatchNorm2d-13           [-1, 64, 64, 64]             128\n",
      "             ReLU-14           [-1, 64, 64, 64]               0\n",
      "       BasicBlock-15           [-1, 64, 64, 64]               0\n",
      "           Conv2d-16           [-1, 64, 64, 64]          36,864\n",
      "      BatchNorm2d-17           [-1, 64, 64, 64]             128\n",
      "             ReLU-18           [-1, 64, 64, 64]               0\n",
      "           Conv2d-19           [-1, 64, 64, 64]          36,864\n",
      "      BatchNorm2d-20           [-1, 64, 64, 64]             128\n",
      "             ReLU-21           [-1, 64, 64, 64]               0\n",
      "       BasicBlock-22           [-1, 64, 64, 64]               0\n",
      "           Conv2d-23          [-1, 128, 32, 32]          73,728\n",
      "      BatchNorm2d-24          [-1, 128, 32, 32]             256\n",
      "             ReLU-25          [-1, 128, 32, 32]               0\n",
      "           Conv2d-26          [-1, 128, 32, 32]         147,456\n",
      "      BatchNorm2d-27          [-1, 128, 32, 32]             256\n",
      "           Conv2d-28          [-1, 128, 32, 32]           8,192\n",
      "      BatchNorm2d-29          [-1, 128, 32, 32]             256\n",
      "             ReLU-30          [-1, 128, 32, 32]               0\n",
      "       BasicBlock-31          [-1, 128, 32, 32]               0\n",
      "           Conv2d-32          [-1, 128, 32, 32]         147,456\n",
      "      BatchNorm2d-33          [-1, 128, 32, 32]             256\n",
      "             ReLU-34          [-1, 128, 32, 32]               0\n",
      "           Conv2d-35          [-1, 128, 32, 32]         147,456\n",
      "      BatchNorm2d-36          [-1, 128, 32, 32]             256\n",
      "             ReLU-37          [-1, 128, 32, 32]               0\n",
      "       BasicBlock-38          [-1, 128, 32, 32]               0\n",
      "           Conv2d-39          [-1, 256, 16, 16]         294,912\n",
      "      BatchNorm2d-40          [-1, 256, 16, 16]             512\n",
      "             ReLU-41          [-1, 256, 16, 16]               0\n",
      "           Conv2d-42          [-1, 256, 16, 16]         589,824\n",
      "      BatchNorm2d-43          [-1, 256, 16, 16]             512\n",
      "           Conv2d-44          [-1, 256, 16, 16]          32,768\n",
      "      BatchNorm2d-45          [-1, 256, 16, 16]             512\n",
      "             ReLU-46          [-1, 256, 16, 16]               0\n",
      "       BasicBlock-47          [-1, 256, 16, 16]               0\n",
      "           Conv2d-48          [-1, 256, 16, 16]         589,824\n",
      "      BatchNorm2d-49          [-1, 256, 16, 16]             512\n",
      "             ReLU-50          [-1, 256, 16, 16]               0\n",
      "           Conv2d-51          [-1, 256, 16, 16]         589,824\n",
      "      BatchNorm2d-52          [-1, 256, 16, 16]             512\n",
      "             ReLU-53          [-1, 256, 16, 16]               0\n",
      "       BasicBlock-54          [-1, 256, 16, 16]               0\n",
      "           Conv2d-55            [-1, 512, 8, 8]       1,179,648\n",
      "      BatchNorm2d-56            [-1, 512, 8, 8]           1,024\n",
      "             ReLU-57            [-1, 512, 8, 8]               0\n",
      "           Conv2d-58            [-1, 512, 8, 8]       2,359,296\n",
      "      BatchNorm2d-59            [-1, 512, 8, 8]           1,024\n",
      "           Conv2d-60            [-1, 512, 8, 8]         131,072\n",
      "      BatchNorm2d-61            [-1, 512, 8, 8]           1,024\n",
      "             ReLU-62            [-1, 512, 8, 8]               0\n",
      "       BasicBlock-63            [-1, 512, 8, 8]               0\n",
      "           Conv2d-64            [-1, 512, 8, 8]       2,359,296\n",
      "      BatchNorm2d-65            [-1, 512, 8, 8]           1,024\n",
      "             ReLU-66            [-1, 512, 8, 8]               0\n",
      "           Conv2d-67            [-1, 512, 8, 8]       2,359,296\n",
      "      BatchNorm2d-68            [-1, 512, 8, 8]           1,024\n",
      "             ReLU-69            [-1, 512, 8, 8]               0\n",
      "       BasicBlock-70            [-1, 512, 8, 8]               0\n",
      "           Conv2d-71            [-1, 512, 8, 8]         262,656\n",
      "             ReLU-72            [-1, 512, 8, 8]               0\n",
      "         Upsample-73          [-1, 512, 16, 16]               0\n",
      "           Conv2d-74          [-1, 256, 16, 16]          65,792\n",
      "             ReLU-75          [-1, 256, 16, 16]               0\n",
      "           Conv2d-76          [-1, 512, 16, 16]       3,539,456\n",
      "             ReLU-77          [-1, 512, 16, 16]               0\n",
      "         Upsample-78          [-1, 512, 32, 32]               0\n",
      "           Conv2d-79          [-1, 128, 32, 32]          16,512\n",
      "             ReLU-80          [-1, 128, 32, 32]               0\n",
      "           Conv2d-81          [-1, 256, 32, 32]       1,474,816\n",
      "             ReLU-82          [-1, 256, 32, 32]               0\n",
      "         Upsample-83          [-1, 256, 64, 64]               0\n",
      "           Conv2d-84           [-1, 64, 64, 64]           4,160\n",
      "             ReLU-85           [-1, 64, 64, 64]               0\n",
      "           Conv2d-86          [-1, 256, 64, 64]         737,536\n",
      "             ReLU-87          [-1, 256, 64, 64]               0\n",
      "         Upsample-88        [-1, 256, 128, 128]               0\n",
      "           Conv2d-89         [-1, 64, 128, 128]           4,160\n",
      "             ReLU-90         [-1, 64, 128, 128]               0\n",
      "           Conv2d-91        [-1, 128, 128, 128]         368,768\n",
      "             ReLU-92        [-1, 128, 128, 128]               0\n",
      "         Upsample-93        [-1, 128, 256, 256]               0\n",
      "           Conv2d-94         [-1, 64, 256, 256]         110,656\n",
      "             ReLU-95         [-1, 64, 256, 256]               0\n",
      "           Conv2d-96          [-1, 6, 256, 256]             390\n",
      "================================================================\n",
      "Total params: 17,792,710\n",
      "Trainable params: 17,792,710\n",
      "Non-trainable params: 0\n",
      "----------------------------------------------------------------\n",
      "Input size (MB): 0.25\n",
      "Forward/backward pass size (MB): 463.50\n",
      "Params size (MB): 67.87\n",
      "Estimated Total Size (MB): 531.62\n",
      "----------------------------------------------------------------\n"
     ]
    }
   ],
   "source": [
    "model = ResNetUNet(num_class)\n",
    "model = model.to(device)\n",
    "\n",
    "summary(model, input_size=(1, im_w_training, im_h_training))"
   ]
  },
  {
   "cell_type": "markdown",
   "metadata": {},
   "source": [
    "# 4. DICE loss"
   ]
  },
  {
   "cell_type": "code",
   "execution_count": 10,
   "metadata": {
    "ExecuteTime": {
     "end_time": "2021-02-07T18:27:17.276266Z",
     "start_time": "2021-02-07T18:27:17.272525Z"
    }
   },
   "outputs": [],
   "source": [
    "def dice_loss(pred, target, smooth=1.):\n",
    "    pred = pred.contiguous()\n",
    "    target = target.contiguous()\n",
    "\n",
    "    intersection = (pred * target).sum(2).sum(2)\n",
    "\n",
    "    loss = (1 - ((2. * intersection + smooth) /\n",
    "                 (pred.sum(2).sum(2) + target.sum(2).sum(2) + smooth)))\n",
    "\n",
    "    return loss.mean()\n",
    "\n",
    "\n",
    "def calc_loss(pred, target, metrics, bce_weight=0.5):\n",
    "    bce = F.binary_cross_entropy_with_logits(pred, target)\n",
    "\n",
    "    pred = F.sigmoid(pred)\n",
    "    dice = dice_loss(pred, target)\n",
    "\n",
    "    loss = bce * bce_weight + dice * (1 - bce_weight)\n",
    "\n",
    "    metrics['bce'] += bce.data.cpu().numpy() * target.size(0)\n",
    "    metrics['dice'] += dice.data.cpu().numpy() * target.size(0)\n",
    "    metrics['loss'] += loss.data.cpu().numpy() * target.size(0)\n",
    "\n",
    "    return loss\n",
    "\n",
    "\n",
    "def print_metrics(metrics, epoch_samples, phase):\n",
    "    outputs = []\n",
    "    for k in metrics.keys():\n",
    "        outputs.append(\"{}: {:4f}\".format(k, metrics[k] / epoch_samples))\n",
    "\n",
    "    print(\"{}: {}\".format(phase, \", \".join(outputs)))"
   ]
  },
  {
   "cell_type": "markdown",
   "metadata": {},
   "source": [
    "# 5. Train the model"
   ]
  },
  {
   "cell_type": "code",
   "execution_count": 11,
   "metadata": {
    "ExecuteTime": {
     "end_time": "2021-02-07T18:27:22.105446Z",
     "start_time": "2021-02-07T18:27:22.072280Z"
    }
   },
   "outputs": [],
   "source": [
    "def train_model(model, optimizer, scheduler, num_epochs=25):\n",
    "    best_model_wts = copy.deepcopy(model.state_dict())\n",
    "    best_loss = 1e10\n",
    "\n",
    "    for epoch in range(num_epochs):\n",
    "        print('Epoch {}/{}'.format(epoch, num_epochs - 1))\n",
    "        print('-' * 10)\n",
    "\n",
    "        since = time.time()\n",
    "\n",
    "        # Each epoch has a training and validation phase\n",
    "        for phase in ['train', 'val']:\n",
    "            if phase == 'train':\n",
    "                scheduler.step()\n",
    "                for param_group in optimizer.param_groups:\n",
    "                    print(\"LR\", param_group['lr'])\n",
    "\n",
    "                model.train()  # Set model to training mode\n",
    "                dataloader = train_dataloader\n",
    "                dataloader_length = len(train_dataset) // b_size + 1\n",
    "            else:\n",
    "                model.eval()  # Set model to evaluate mode\n",
    "                dataloader = val_dataloader\n",
    "                dataloader_length = len(val_dataset) // b_size + 1\n",
    "            metrics = defaultdict(float)\n",
    "            epoch_samples = 0\n",
    "\n",
    "            for i, results in tqdm(enumerate(dataloader),\n",
    "                                   total=dataloader_length):\n",
    "                source_img = results['source_img'].float().cuda()\n",
    "                target_parse = results['target_img'].float().cuda()\n",
    "\n",
    "                inputs = source_img\n",
    "                labels = target_parse\n",
    "\n",
    "                # zero the parameter gradients\n",
    "                optimizer.zero_grad()\n",
    "\n",
    "                # forward\n",
    "                # track history if only in train\n",
    "                with torch.set_grad_enabled(phase == 'train'):\n",
    "                    outputs = model(inputs)\n",
    "                    loss = calc_loss(outputs, labels, metrics)\n",
    "\n",
    "                    # backward + optimize only if in training phase\n",
    "                    if phase == 'train':\n",
    "                        loss.backward()\n",
    "                        optimizer.step()\n",
    "\n",
    "                # statistics\n",
    "                epoch_samples += inputs.size(0)\n",
    "\n",
    "            print_metrics(metrics, epoch_samples, phase)\n",
    "            epoch_loss = metrics['loss'] / epoch_samples\n",
    "\n",
    "            # deep copy the model\n",
    "            if phase == 'val' and epoch_loss < best_loss:\n",
    "\n",
    "                best_loss = epoch_loss\n",
    "                best_model_wts = copy.deepcopy(model.state_dict())\n",
    "\n",
    "        time_elapsed = time.time() - since\n",
    "        print('total time taken to run one epoch -- {:.0f}m {:.0f}s'.format(\n",
    "            time_elapsed // 60, time_elapsed % 60))\n",
    "\n",
    "        print(\n",
    "            '---------------------------------------------------------------------------------'\n",
    "        )\n",
    "\n",
    "    print('Best val loss: {:4f}'.format(best_loss))\n",
    "\n",
    "    # load best model weights\n",
    "    model.load_state_dict(best_model_wts)\n",
    "    return model"
   ]
  },
  {
   "cell_type": "code",
   "execution_count": 13,
   "metadata": {
    "ExecuteTime": {
     "end_time": "2021-02-07T18:19:18.618608Z",
     "start_time": "2021-02-07T17:47:31.929314Z"
    }
   },
   "outputs": [
    {
     "name": "stdout",
     "output_type": "stream",
     "text": [
      "Epoch 0/39\n",
      "----------\n",
      "LR 0.0002\n"
     ]
    },
    {
     "name": "stderr",
     "output_type": "stream",
     "text": [
      "/home/deep/.virtualenvs/pytorch/lib/python3.8/site-packages/torch/optim/lr_scheduler.py:118: UserWarning: Detected call of `lr_scheduler.step()` before `optimizer.step()`. In PyTorch 1.1.0 and later, you should call them in the opposite order: `optimizer.step()` before `lr_scheduler.step()`.  Failure to do this will result in PyTorch skipping the first value of the learning rate schedule. See more details at https://pytorch.org/docs/stable/optim.html#how-to-adjust-learning-rate\n",
      "  warnings.warn(\"Detected call of `lr_scheduler.step()` before `optimizer.step()`. \"\n",
      "  0%|          | 0/184 [00:00<?, ?it/s]/home/deep/.virtualenvs/pytorch/lib/python3.8/site-packages/torch/nn/functional.py:1625: UserWarning: nn.functional.sigmoid is deprecated. Use torch.sigmoid instead.\n",
      "  warnings.warn(\"nn.functional.sigmoid is deprecated. Use torch.sigmoid instead.\")\n",
      "100%|██████████| 184/184 [00:47<00:00,  3.91it/s]"
     ]
    },
    {
     "name": "stdout",
     "output_type": "stream",
     "text": [
      "train: bce: 0.064168, dice: 0.579442, loss: 0.321805\n"
     ]
    },
    {
     "name": "stderr",
     "output_type": "stream",
     "text": [
      "\n",
      "100%|██████████| 10/10 [00:01<00:00,  5.13it/s]"
     ]
    },
    {
     "name": "stdout",
     "output_type": "stream",
     "text": [
      "val: bce: 0.042415, dice: 0.500260, loss: 0.271337\n",
      "total time taken to run one epoch -- 0m 49s\n",
      "---------------------------------------------------------------------------------\n",
      "Epoch 1/39\n",
      "----------\n",
      "LR 0.0002\n"
     ]
    },
    {
     "name": "stderr",
     "output_type": "stream",
     "text": [
      "\n",
      "100%|██████████| 184/184 [00:45<00:00,  4.00it/s]"
     ]
    },
    {
     "name": "stdout",
     "output_type": "stream",
     "text": [
      "train: bce: 0.043686, dice: 0.497959, loss: 0.270822\n"
     ]
    },
    {
     "name": "stderr",
     "output_type": "stream",
     "text": [
      "\n",
      "100%|██████████| 10/10 [00:01<00:00,  6.33it/s]"
     ]
    },
    {
     "name": "stdout",
     "output_type": "stream",
     "text": [
      "val: bce: 0.048580, dice: 0.504564, loss: 0.276572\n",
      "total time taken to run one epoch -- 0m 48s\n",
      "---------------------------------------------------------------------------------\n",
      "Epoch 2/39\n",
      "----------\n",
      "LR 0.0002\n"
     ]
    },
    {
     "name": "stderr",
     "output_type": "stream",
     "text": [
      "\n",
      "100%|██████████| 184/184 [00:47<00:00,  3.91it/s]"
     ]
    },
    {
     "name": "stdout",
     "output_type": "stream",
     "text": [
      "train: bce: 0.043626, dice: 0.493459, loss: 0.268542\n"
     ]
    },
    {
     "name": "stderr",
     "output_type": "stream",
     "text": [
      "\n",
      "100%|██████████| 10/10 [00:01<00:00,  6.47it/s]"
     ]
    },
    {
     "name": "stdout",
     "output_type": "stream",
     "text": [
      "val: bce: 0.042124, dice: 0.503413, loss: 0.272769\n",
      "total time taken to run one epoch -- 0m 49s\n",
      "---------------------------------------------------------------------------------\n",
      "Epoch 3/39\n",
      "----------\n",
      "LR 0.0002\n"
     ]
    },
    {
     "name": "stderr",
     "output_type": "stream",
     "text": [
      "\n",
      "100%|██████████| 184/184 [00:46<00:00,  3.95it/s]"
     ]
    },
    {
     "name": "stdout",
     "output_type": "stream",
     "text": [
      "train: bce: 0.042952, dice: 0.491678, loss: 0.267315\n"
     ]
    },
    {
     "name": "stderr",
     "output_type": "stream",
     "text": [
      "\n",
      "100%|██████████| 10/10 [00:01<00:00,  6.80it/s]"
     ]
    },
    {
     "name": "stdout",
     "output_type": "stream",
     "text": [
      "val: bce: 0.041980, dice: 0.483188, loss: 0.262584\n",
      "total time taken to run one epoch -- 0m 48s\n",
      "---------------------------------------------------------------------------------\n",
      "Epoch 4/39\n",
      "----------\n",
      "LR 0.0002\n"
     ]
    },
    {
     "name": "stderr",
     "output_type": "stream",
     "text": [
      "\n",
      "100%|██████████| 184/184 [00:45<00:00,  4.04it/s]"
     ]
    },
    {
     "name": "stdout",
     "output_type": "stream",
     "text": [
      "train: bce: 0.042799, dice: 0.489507, loss: 0.266153\n"
     ]
    },
    {
     "name": "stderr",
     "output_type": "stream",
     "text": [
      "\n",
      "100%|██████████| 10/10 [00:01<00:00,  6.22it/s]"
     ]
    },
    {
     "name": "stdout",
     "output_type": "stream",
     "text": [
      "val: bce: 0.043008, dice: 0.488173, loss: 0.265590\n",
      "total time taken to run one epoch -- 0m 47s\n",
      "---------------------------------------------------------------------------------\n",
      "Epoch 5/39\n",
      "----------\n",
      "LR 0.0002\n"
     ]
    },
    {
     "name": "stderr",
     "output_type": "stream",
     "text": [
      "\n",
      "100%|██████████| 184/184 [00:46<00:00,  3.99it/s]"
     ]
    },
    {
     "name": "stdout",
     "output_type": "stream",
     "text": [
      "train: bce: 0.042478, dice: 0.488620, loss: 0.265549\n"
     ]
    },
    {
     "name": "stderr",
     "output_type": "stream",
     "text": [
      "\n",
      "100%|██████████| 10/10 [00:01<00:00,  6.76it/s]"
     ]
    },
    {
     "name": "stdout",
     "output_type": "stream",
     "text": [
      "val: bce: 0.044109, dice: 0.483988, loss: 0.264048\n",
      "total time taken to run one epoch -- 0m 48s\n",
      "---------------------------------------------------------------------------------\n",
      "Epoch 6/39\n",
      "----------\n",
      "LR 0.0002\n"
     ]
    },
    {
     "name": "stderr",
     "output_type": "stream",
     "text": [
      "\n",
      "100%|██████████| 184/184 [00:46<00:00,  3.97it/s]"
     ]
    },
    {
     "name": "stdout",
     "output_type": "stream",
     "text": [
      "train: bce: 0.042181, dice: 0.488157, loss: 0.265169\n"
     ]
    },
    {
     "name": "stderr",
     "output_type": "stream",
     "text": [
      "\n",
      "100%|██████████| 10/10 [00:01<00:00,  6.37it/s]"
     ]
    },
    {
     "name": "stdout",
     "output_type": "stream",
     "text": [
      "val: bce: 0.040830, dice: 0.489684, loss: 0.265257\n",
      "total time taken to run one epoch -- 0m 48s\n",
      "---------------------------------------------------------------------------------\n",
      "Epoch 7/39\n",
      "----------\n",
      "LR 0.0002\n"
     ]
    },
    {
     "name": "stderr",
     "output_type": "stream",
     "text": [
      "\n",
      "100%|██████████| 184/184 [00:46<00:00,  3.98it/s]"
     ]
    },
    {
     "name": "stdout",
     "output_type": "stream",
     "text": [
      "train: bce: 0.042101, dice: 0.486948, loss: 0.264525\n"
     ]
    },
    {
     "name": "stderr",
     "output_type": "stream",
     "text": [
      "\n",
      "100%|██████████| 10/10 [00:01<00:00,  6.46it/s]"
     ]
    },
    {
     "name": "stdout",
     "output_type": "stream",
     "text": [
      "val: bce: 0.042289, dice: 0.482843, loss: 0.262566\n",
      "total time taken to run one epoch -- 0m 48s\n",
      "---------------------------------------------------------------------------------\n",
      "Epoch 8/39\n",
      "----------\n",
      "LR 0.0002\n"
     ]
    },
    {
     "name": "stderr",
     "output_type": "stream",
     "text": [
      "\n",
      "100%|██████████| 184/184 [00:46<00:00,  4.00it/s]"
     ]
    },
    {
     "name": "stdout",
     "output_type": "stream",
     "text": [
      "train: bce: 0.042159, dice: 0.487195, loss: 0.264677\n"
     ]
    },
    {
     "name": "stderr",
     "output_type": "stream",
     "text": [
      "\n",
      "100%|██████████| 10/10 [00:01<00:00,  6.84it/s]"
     ]
    },
    {
     "name": "stdout",
     "output_type": "stream",
     "text": [
      "val: bce: 0.038793, dice: 0.485113, loss: 0.261953\n",
      "total time taken to run one epoch -- 0m 48s\n",
      "---------------------------------------------------------------------------------\n",
      "Epoch 9/39\n",
      "----------\n",
      "LR 0.0002\n"
     ]
    },
    {
     "name": "stderr",
     "output_type": "stream",
     "text": [
      "\n",
      "100%|██████████| 184/184 [00:45<00:00,  4.05it/s]"
     ]
    },
    {
     "name": "stdout",
     "output_type": "stream",
     "text": [
      "train: bce: 0.041903, dice: 0.485594, loss: 0.263748\n"
     ]
    },
    {
     "name": "stderr",
     "output_type": "stream",
     "text": [
      "\n",
      "100%|██████████| 10/10 [00:01<00:00,  6.31it/s]"
     ]
    },
    {
     "name": "stdout",
     "output_type": "stream",
     "text": [
      "val: bce: 0.041563, dice: 0.491065, loss: 0.266314\n",
      "total time taken to run one epoch -- 0m 47s\n",
      "---------------------------------------------------------------------------------\n",
      "Epoch 10/39\n",
      "----------\n",
      "LR 0.0002\n"
     ]
    },
    {
     "name": "stderr",
     "output_type": "stream",
     "text": [
      "\n",
      "100%|██████████| 184/184 [00:47<00:00,  3.88it/s]"
     ]
    },
    {
     "name": "stdout",
     "output_type": "stream",
     "text": [
      "train: bce: 0.041822, dice: 0.485399, loss: 0.263611\n"
     ]
    },
    {
     "name": "stderr",
     "output_type": "stream",
     "text": [
      "\n",
      "100%|██████████| 10/10 [00:01<00:00,  6.75it/s]"
     ]
    },
    {
     "name": "stdout",
     "output_type": "stream",
     "text": [
      "val: bce: 0.040665, dice: 0.483205, loss: 0.261935\n",
      "total time taken to run one epoch -- 0m 49s\n",
      "---------------------------------------------------------------------------------\n",
      "Epoch 11/39\n",
      "----------\n",
      "LR 0.0002\n"
     ]
    },
    {
     "name": "stderr",
     "output_type": "stream",
     "text": [
      "\n",
      "100%|██████████| 184/184 [00:45<00:00,  4.04it/s]"
     ]
    },
    {
     "name": "stdout",
     "output_type": "stream",
     "text": [
      "train: bce: 0.041801, dice: 0.484764, loss: 0.263283\n"
     ]
    },
    {
     "name": "stderr",
     "output_type": "stream",
     "text": [
      "\n",
      "100%|██████████| 10/10 [00:01<00:00,  7.32it/s]"
     ]
    },
    {
     "name": "stdout",
     "output_type": "stream",
     "text": [
      "val: bce: 0.044316, dice: 0.479972, loss: 0.262144\n",
      "total time taken to run one epoch -- 0m 47s\n",
      "---------------------------------------------------------------------------------\n",
      "Epoch 12/39\n",
      "----------\n",
      "LR 0.0002\n"
     ]
    },
    {
     "name": "stderr",
     "output_type": "stream",
     "text": [
      "\n",
      "100%|██████████| 184/184 [00:45<00:00,  4.01it/s]"
     ]
    },
    {
     "name": "stdout",
     "output_type": "stream",
     "text": [
      "train: bce: 0.041424, dice: 0.483521, loss: 0.262472\n"
     ]
    },
    {
     "name": "stderr",
     "output_type": "stream",
     "text": [
      "\n",
      "100%|██████████| 10/10 [00:01<00:00,  6.87it/s]"
     ]
    },
    {
     "name": "stdout",
     "output_type": "stream",
     "text": [
      "val: bce: 0.046014, dice: 0.489089, loss: 0.267552\n",
      "total time taken to run one epoch -- 0m 47s\n",
      "---------------------------------------------------------------------------------\n",
      "Epoch 13/39\n",
      "----------\n",
      "LR 0.0002\n"
     ]
    },
    {
     "name": "stderr",
     "output_type": "stream",
     "text": [
      "\n",
      "100%|██████████| 184/184 [00:45<00:00,  4.06it/s]"
     ]
    },
    {
     "name": "stdout",
     "output_type": "stream",
     "text": [
      "train: bce: 0.041678, dice: 0.482809, loss: 0.262244\n"
     ]
    },
    {
     "name": "stderr",
     "output_type": "stream",
     "text": [
      "\n",
      "100%|██████████| 10/10 [00:01<00:00,  6.85it/s]"
     ]
    },
    {
     "name": "stdout",
     "output_type": "stream",
     "text": [
      "val: bce: 0.042590, dice: 0.485673, loss: 0.264132\n",
      "total time taken to run one epoch -- 0m 47s\n",
      "---------------------------------------------------------------------------------\n",
      "Epoch 14/39\n",
      "----------\n",
      "LR 0.0002\n"
     ]
    },
    {
     "name": "stderr",
     "output_type": "stream",
     "text": [
      "\n",
      "100%|██████████| 184/184 [00:44<00:00,  4.10it/s]"
     ]
    },
    {
     "name": "stdout",
     "output_type": "stream",
     "text": [
      "train: bce: 0.041332, dice: 0.482886, loss: 0.262109\n"
     ]
    },
    {
     "name": "stderr",
     "output_type": "stream",
     "text": [
      "\n",
      "100%|██████████| 10/10 [00:01<00:00,  7.60it/s]"
     ]
    },
    {
     "name": "stdout",
     "output_type": "stream",
     "text": [
      "val: bce: 0.043361, dice: 0.486822, loss: 0.265092\n",
      "total time taken to run one epoch -- 0m 46s\n",
      "---------------------------------------------------------------------------------\n",
      "Epoch 15/39\n",
      "----------\n",
      "LR 0.0002\n"
     ]
    },
    {
     "name": "stderr",
     "output_type": "stream",
     "text": [
      "\n",
      "100%|██████████| 184/184 [00:45<00:00,  4.06it/s]"
     ]
    },
    {
     "name": "stdout",
     "output_type": "stream",
     "text": [
      "train: bce: 0.041364, dice: 0.480906, loss: 0.261135\n"
     ]
    },
    {
     "name": "stderr",
     "output_type": "stream",
     "text": [
      "\n",
      "100%|██████████| 10/10 [00:01<00:00,  6.70it/s]"
     ]
    },
    {
     "name": "stdout",
     "output_type": "stream",
     "text": [
      "val: bce: 0.043028, dice: 0.482040, loss: 0.262534\n",
      "total time taken to run one epoch -- 0m 47s\n",
      "---------------------------------------------------------------------------------\n",
      "Epoch 16/39\n",
      "----------\n",
      "LR 0.0002\n"
     ]
    },
    {
     "name": "stderr",
     "output_type": "stream",
     "text": [
      "\n",
      "100%|██████████| 184/184 [00:45<00:00,  4.07it/s]"
     ]
    },
    {
     "name": "stdout",
     "output_type": "stream",
     "text": [
      "train: bce: 0.041179, dice: 0.479864, loss: 0.260522\n"
     ]
    },
    {
     "name": "stderr",
     "output_type": "stream",
     "text": [
      "\n",
      "100%|██████████| 10/10 [00:01<00:00,  6.87it/s]"
     ]
    },
    {
     "name": "stdout",
     "output_type": "stream",
     "text": [
      "val: bce: 0.041253, dice: 0.497833, loss: 0.269543\n",
      "total time taken to run one epoch -- 0m 47s\n",
      "---------------------------------------------------------------------------------\n",
      "Epoch 17/39\n",
      "----------\n",
      "LR 0.0002\n"
     ]
    },
    {
     "name": "stderr",
     "output_type": "stream",
     "text": [
      "\n",
      "100%|██████████| 184/184 [00:45<00:00,  4.07it/s]"
     ]
    },
    {
     "name": "stdout",
     "output_type": "stream",
     "text": [
      "train: bce: 0.041087, dice: 0.477645, loss: 0.259366\n"
     ]
    },
    {
     "name": "stderr",
     "output_type": "stream",
     "text": [
      "\n",
      "100%|██████████| 10/10 [00:01<00:00,  7.32it/s]"
     ]
    },
    {
     "name": "stdout",
     "output_type": "stream",
     "text": [
      "val: bce: 0.044546, dice: 0.487687, loss: 0.266116\n",
      "total time taken to run one epoch -- 0m 47s\n",
      "---------------------------------------------------------------------------------\n",
      "Epoch 18/39\n",
      "----------\n",
      "LR 0.0002\n"
     ]
    },
    {
     "name": "stderr",
     "output_type": "stream",
     "text": [
      "\n",
      "100%|██████████| 184/184 [00:45<00:00,  4.05it/s]"
     ]
    },
    {
     "name": "stdout",
     "output_type": "stream",
     "text": [
      "train: bce: 0.040818, dice: 0.475312, loss: 0.258065\n"
     ]
    },
    {
     "name": "stderr",
     "output_type": "stream",
     "text": [
      "\n",
      "100%|██████████| 10/10 [00:01<00:00,  6.68it/s]"
     ]
    },
    {
     "name": "stdout",
     "output_type": "stream",
     "text": [
      "val: bce: 0.042936, dice: 0.484807, loss: 0.263871\n",
      "total time taken to run one epoch -- 0m 47s\n",
      "---------------------------------------------------------------------------------\n",
      "Epoch 19/39\n",
      "----------\n",
      "LR 0.0002\n"
     ]
    },
    {
     "name": "stderr",
     "output_type": "stream",
     "text": [
      "\n",
      "100%|██████████| 184/184 [00:46<00:00,  3.99it/s]"
     ]
    },
    {
     "name": "stdout",
     "output_type": "stream",
     "text": [
      "train: bce: 0.040852, dice: 0.474734, loss: 0.257793\n"
     ]
    },
    {
     "name": "stderr",
     "output_type": "stream",
     "text": [
      "\n",
      "100%|██████████| 10/10 [00:01<00:00,  7.70it/s]"
     ]
    },
    {
     "name": "stdout",
     "output_type": "stream",
     "text": [
      "val: bce: 0.039295, dice: 0.484024, loss: 0.261659\n",
      "total time taken to run one epoch -- 0m 48s\n",
      "---------------------------------------------------------------------------------\n",
      "Epoch 20/39\n",
      "----------\n",
      "LR 0.0002\n"
     ]
    },
    {
     "name": "stderr",
     "output_type": "stream",
     "text": [
      "\n",
      "100%|██████████| 184/184 [00:45<00:00,  4.00it/s]"
     ]
    },
    {
     "name": "stdout",
     "output_type": "stream",
     "text": [
      "train: bce: 0.040430, dice: 0.471224, loss: 0.255827\n"
     ]
    },
    {
     "name": "stderr",
     "output_type": "stream",
     "text": [
      "\n",
      "100%|██████████| 10/10 [00:01<00:00,  6.64it/s]"
     ]
    },
    {
     "name": "stdout",
     "output_type": "stream",
     "text": [
      "val: bce: 0.044911, dice: 0.484472, loss: 0.264692\n",
      "total time taken to run one epoch -- 0m 48s\n",
      "---------------------------------------------------------------------------------\n",
      "Epoch 21/39\n",
      "----------\n",
      "LR 0.0002\n"
     ]
    },
    {
     "name": "stderr",
     "output_type": "stream",
     "text": [
      "\n",
      "100%|██████████| 184/184 [00:46<00:00,  4.00it/s]"
     ]
    },
    {
     "name": "stdout",
     "output_type": "stream",
     "text": [
      "train: bce: 0.040108, dice: 0.467644, loss: 0.253876\n"
     ]
    },
    {
     "name": "stderr",
     "output_type": "stream",
     "text": [
      "\n",
      "100%|██████████| 10/10 [00:01<00:00,  6.90it/s]"
     ]
    },
    {
     "name": "stdout",
     "output_type": "stream",
     "text": [
      "val: bce: 0.044394, dice: 0.484565, loss: 0.264480\n",
      "total time taken to run one epoch -- 0m 48s\n",
      "---------------------------------------------------------------------------------\n",
      "Epoch 22/39\n",
      "----------\n",
      "LR 0.0002\n"
     ]
    },
    {
     "name": "stderr",
     "output_type": "stream",
     "text": [
      "\n",
      "100%|██████████| 184/184 [00:45<00:00,  4.06it/s]"
     ]
    },
    {
     "name": "stdout",
     "output_type": "stream",
     "text": [
      "train: bce: 0.039785, dice: 0.463938, loss: 0.251861\n"
     ]
    },
    {
     "name": "stderr",
     "output_type": "stream",
     "text": [
      "\n",
      "100%|██████████| 10/10 [00:01<00:00,  6.95it/s]"
     ]
    },
    {
     "name": "stdout",
     "output_type": "stream",
     "text": [
      "val: bce: 0.045808, dice: 0.483658, loss: 0.264733\n",
      "total time taken to run one epoch -- 0m 47s\n",
      "---------------------------------------------------------------------------------\n",
      "Epoch 23/39\n",
      "----------\n",
      "LR 0.0002\n"
     ]
    },
    {
     "name": "stderr",
     "output_type": "stream",
     "text": [
      "\n",
      "100%|██████████| 184/184 [00:45<00:00,  4.07it/s]"
     ]
    },
    {
     "name": "stdout",
     "output_type": "stream",
     "text": [
      "train: bce: 0.039694, dice: 0.461173, loss: 0.250433\n"
     ]
    },
    {
     "name": "stderr",
     "output_type": "stream",
     "text": [
      "\n",
      "100%|██████████| 10/10 [00:01<00:00,  7.19it/s]"
     ]
    },
    {
     "name": "stdout",
     "output_type": "stream",
     "text": [
      "val: bce: 0.041018, dice: 0.491438, loss: 0.266228\n",
      "total time taken to run one epoch -- 0m 47s\n",
      "---------------------------------------------------------------------------------\n",
      "Epoch 24/39\n",
      "----------\n",
      "LR 0.0002\n"
     ]
    },
    {
     "name": "stderr",
     "output_type": "stream",
     "text": [
      "\n",
      "100%|██████████| 184/184 [00:45<00:00,  4.02it/s]"
     ]
    },
    {
     "name": "stdout",
     "output_type": "stream",
     "text": [
      "train: bce: 0.039097, dice: 0.458378, loss: 0.248738\n"
     ]
    },
    {
     "name": "stderr",
     "output_type": "stream",
     "text": [
      "\n",
      "100%|██████████| 10/10 [00:01<00:00,  6.60it/s]"
     ]
    },
    {
     "name": "stdout",
     "output_type": "stream",
     "text": [
      "val: bce: 0.044980, dice: 0.491622, loss: 0.268301\n",
      "total time taken to run one epoch -- 0m 47s\n",
      "---------------------------------------------------------------------------------\n",
      "Epoch 25/39\n",
      "----------\n",
      "LR 0.0002\n"
     ]
    },
    {
     "name": "stderr",
     "output_type": "stream",
     "text": [
      "\n",
      "100%|██████████| 184/184 [00:45<00:00,  4.04it/s]"
     ]
    },
    {
     "name": "stdout",
     "output_type": "stream",
     "text": [
      "train: bce: 0.038636, dice: 0.451725, loss: 0.245180\n"
     ]
    },
    {
     "name": "stderr",
     "output_type": "stream",
     "text": [
      "\n",
      "100%|██████████| 10/10 [00:01<00:00,  6.30it/s]"
     ]
    },
    {
     "name": "stdout",
     "output_type": "stream",
     "text": [
      "val: bce: 0.043896, dice: 0.483572, loss: 0.263734\n",
      "total time taken to run one epoch -- 0m 47s\n",
      "---------------------------------------------------------------------------------\n",
      "Epoch 26/39\n",
      "----------\n",
      "LR 0.0002\n"
     ]
    },
    {
     "name": "stderr",
     "output_type": "stream",
     "text": [
      "\n",
      "100%|██████████| 184/184 [00:46<00:00,  4.00it/s]"
     ]
    },
    {
     "name": "stdout",
     "output_type": "stream",
     "text": [
      "train: bce: 0.038198, dice: 0.449251, loss: 0.243724\n"
     ]
    },
    {
     "name": "stderr",
     "output_type": "stream",
     "text": [
      "\n",
      "100%|██████████| 10/10 [00:01<00:00,  7.07it/s]"
     ]
    },
    {
     "name": "stdout",
     "output_type": "stream",
     "text": [
      "val: bce: 0.047548, dice: 0.484101, loss: 0.265825\n",
      "total time taken to run one epoch -- 0m 48s\n",
      "---------------------------------------------------------------------------------\n",
      "Epoch 27/39\n",
      "----------\n",
      "LR 0.0002\n"
     ]
    },
    {
     "name": "stderr",
     "output_type": "stream",
     "text": [
      "\n",
      "100%|██████████| 184/184 [00:45<00:00,  4.04it/s]"
     ]
    },
    {
     "name": "stdout",
     "output_type": "stream",
     "text": [
      "train: bce: 0.037712, dice: 0.444308, loss: 0.241010\n"
     ]
    },
    {
     "name": "stderr",
     "output_type": "stream",
     "text": [
      "\n",
      "100%|██████████| 10/10 [00:01<00:00,  6.58it/s]"
     ]
    },
    {
     "name": "stdout",
     "output_type": "stream",
     "text": [
      "val: bce: 0.045489, dice: 0.493160, loss: 0.269325\n",
      "total time taken to run one epoch -- 0m 47s\n",
      "---------------------------------------------------------------------------------\n",
      "Epoch 28/39\n",
      "----------\n",
      "LR 0.0002\n"
     ]
    },
    {
     "name": "stderr",
     "output_type": "stream",
     "text": [
      "\n",
      "100%|██████████| 184/184 [00:46<00:00,  3.97it/s]"
     ]
    },
    {
     "name": "stdout",
     "output_type": "stream",
     "text": [
      "train: bce: 0.037441, dice: 0.442584, loss: 0.240012\n"
     ]
    },
    {
     "name": "stderr",
     "output_type": "stream",
     "text": [
      "\n",
      "100%|██████████| 10/10 [00:01<00:00,  6.81it/s]"
     ]
    },
    {
     "name": "stdout",
     "output_type": "stream",
     "text": [
      "val: bce: 0.049907, dice: 0.511886, loss: 0.280897\n",
      "total time taken to run one epoch -- 0m 48s\n",
      "---------------------------------------------------------------------------------\n",
      "Epoch 29/39\n",
      "----------\n",
      "LR 2e-05\n"
     ]
    },
    {
     "name": "stderr",
     "output_type": "stream",
     "text": [
      "\n",
      "100%|██████████| 184/184 [00:45<00:00,  4.05it/s]"
     ]
    },
    {
     "name": "stdout",
     "output_type": "stream",
     "text": [
      "train: bce: 0.035489, dice: 0.429917, loss: 0.232703\n"
     ]
    },
    {
     "name": "stderr",
     "output_type": "stream",
     "text": [
      "\n",
      "100%|██████████| 10/10 [00:01<00:00,  6.63it/s]"
     ]
    },
    {
     "name": "stdout",
     "output_type": "stream",
     "text": [
      "val: bce: 0.047109, dice: 0.493528, loss: 0.270319\n",
      "total time taken to run one epoch -- 0m 47s\n",
      "---------------------------------------------------------------------------------\n",
      "Epoch 30/39\n",
      "----------\n",
      "LR 2e-05\n"
     ]
    },
    {
     "name": "stderr",
     "output_type": "stream",
     "text": [
      "\n",
      "100%|██████████| 184/184 [00:46<00:00,  3.95it/s]"
     ]
    },
    {
     "name": "stdout",
     "output_type": "stream",
     "text": [
      "train: bce: 0.035127, dice: 0.424075, loss: 0.229601\n"
     ]
    },
    {
     "name": "stderr",
     "output_type": "stream",
     "text": [
      "\n",
      "100%|██████████| 10/10 [00:01<00:00,  7.07it/s]"
     ]
    },
    {
     "name": "stdout",
     "output_type": "stream",
     "text": [
      "val: bce: 0.047283, dice: 0.494656, loss: 0.270970\n",
      "total time taken to run one epoch -- 0m 48s\n",
      "---------------------------------------------------------------------------------\n",
      "Epoch 31/39\n",
      "----------\n",
      "LR 2e-05\n"
     ]
    },
    {
     "name": "stderr",
     "output_type": "stream",
     "text": [
      "\n",
      "100%|██████████| 184/184 [00:46<00:00,  3.94it/s]"
     ]
    },
    {
     "name": "stdout",
     "output_type": "stream",
     "text": [
      "train: bce: 0.034834, dice: 0.421590, loss: 0.228212\n"
     ]
    },
    {
     "name": "stderr",
     "output_type": "stream",
     "text": [
      "\n",
      "100%|██████████| 10/10 [00:01<00:00,  6.99it/s]"
     ]
    },
    {
     "name": "stdout",
     "output_type": "stream",
     "text": [
      "val: bce: 0.046930, dice: 0.489291, loss: 0.268111\n",
      "total time taken to run one epoch -- 0m 48s\n",
      "---------------------------------------------------------------------------------\n",
      "Epoch 32/39\n",
      "----------\n",
      "LR 2e-05\n"
     ]
    },
    {
     "name": "stderr",
     "output_type": "stream",
     "text": [
      "\n",
      "100%|██████████| 184/184 [00:48<00:00,  3.79it/s]"
     ]
    },
    {
     "name": "stdout",
     "output_type": "stream",
     "text": [
      "train: bce: 0.034546, dice: 0.418491, loss: 0.226518\n"
     ]
    },
    {
     "name": "stderr",
     "output_type": "stream",
     "text": [
      "\n",
      "100%|██████████| 10/10 [00:01<00:00,  6.20it/s]"
     ]
    },
    {
     "name": "stdout",
     "output_type": "stream",
     "text": [
      "val: bce: 0.046820, dice: 0.498151, loss: 0.272485\n",
      "total time taken to run one epoch -- 0m 50s\n",
      "---------------------------------------------------------------------------------\n",
      "Epoch 33/39\n",
      "----------\n",
      "LR 2e-05\n"
     ]
    },
    {
     "name": "stderr",
     "output_type": "stream",
     "text": [
      "\n",
      "100%|██████████| 184/184 [00:46<00:00,  3.95it/s]"
     ]
    },
    {
     "name": "stdout",
     "output_type": "stream",
     "text": [
      "train: bce: 0.034438, dice: 0.417927, loss: 0.226182\n"
     ]
    },
    {
     "name": "stderr",
     "output_type": "stream",
     "text": [
      "\n",
      "100%|██████████| 10/10 [00:01<00:00,  6.38it/s]"
     ]
    },
    {
     "name": "stdout",
     "output_type": "stream",
     "text": [
      "val: bce: 0.047326, dice: 0.490440, loss: 0.268883\n",
      "total time taken to run one epoch -- 0m 48s\n",
      "---------------------------------------------------------------------------------\n",
      "Epoch 34/39\n",
      "----------\n",
      "LR 2e-05\n"
     ]
    },
    {
     "name": "stderr",
     "output_type": "stream",
     "text": [
      "\n",
      "100%|██████████| 184/184 [00:46<00:00,  4.00it/s]"
     ]
    },
    {
     "name": "stdout",
     "output_type": "stream",
     "text": [
      "train: bce: 0.034007, dice: 0.414876, loss: 0.224442\n"
     ]
    },
    {
     "name": "stderr",
     "output_type": "stream",
     "text": [
      "\n",
      "100%|██████████| 10/10 [00:01<00:00,  6.28it/s]"
     ]
    },
    {
     "name": "stdout",
     "output_type": "stream",
     "text": [
      "val: bce: 0.049320, dice: 0.502644, loss: 0.275982\n",
      "total time taken to run one epoch -- 0m 48s\n",
      "---------------------------------------------------------------------------------\n",
      "Epoch 35/39\n",
      "----------\n",
      "LR 2e-05\n"
     ]
    },
    {
     "name": "stderr",
     "output_type": "stream",
     "text": [
      "\n",
      "100%|██████████| 184/184 [00:46<00:00,  3.97it/s]"
     ]
    },
    {
     "name": "stdout",
     "output_type": "stream",
     "text": [
      "train: bce: 0.033953, dice: 0.413252, loss: 0.223602\n"
     ]
    },
    {
     "name": "stderr",
     "output_type": "stream",
     "text": [
      "\n",
      "100%|██████████| 10/10 [00:01<00:00,  7.30it/s]"
     ]
    },
    {
     "name": "stdout",
     "output_type": "stream",
     "text": [
      "val: bce: 0.047726, dice: 0.494977, loss: 0.271352\n",
      "total time taken to run one epoch -- 0m 48s\n",
      "---------------------------------------------------------------------------------\n",
      "Epoch 36/39\n",
      "----------\n",
      "LR 2e-05\n"
     ]
    },
    {
     "name": "stderr",
     "output_type": "stream",
     "text": [
      "\n",
      "100%|██████████| 184/184 [00:45<00:00,  4.02it/s]"
     ]
    },
    {
     "name": "stdout",
     "output_type": "stream",
     "text": [
      "train: bce: 0.033409, dice: 0.410373, loss: 0.221891\n"
     ]
    },
    {
     "name": "stderr",
     "output_type": "stream",
     "text": [
      "\n",
      "100%|██████████| 10/10 [00:01<00:00,  6.69it/s]"
     ]
    },
    {
     "name": "stdout",
     "output_type": "stream",
     "text": [
      "val: bce: 0.048495, dice: 0.496157, loss: 0.272326\n",
      "total time taken to run one epoch -- 0m 47s\n",
      "---------------------------------------------------------------------------------\n",
      "Epoch 37/39\n",
      "----------\n",
      "LR 2e-05\n"
     ]
    },
    {
     "name": "stderr",
     "output_type": "stream",
     "text": [
      "\n",
      "100%|██████████| 184/184 [00:46<00:00,  3.96it/s]"
     ]
    },
    {
     "name": "stdout",
     "output_type": "stream",
     "text": [
      "train: bce: 0.033548, dice: 0.411343, loss: 0.222445\n"
     ]
    },
    {
     "name": "stderr",
     "output_type": "stream",
     "text": [
      "\n",
      "100%|██████████| 10/10 [00:01<00:00,  6.60it/s]"
     ]
    },
    {
     "name": "stdout",
     "output_type": "stream",
     "text": [
      "val: bce: 0.047792, dice: 0.485703, loss: 0.266747\n",
      "total time taken to run one epoch -- 0m 48s\n",
      "---------------------------------------------------------------------------------\n",
      "Epoch 38/39\n",
      "----------\n",
      "LR 2e-05\n"
     ]
    },
    {
     "name": "stderr",
     "output_type": "stream",
     "text": [
      "\n",
      "100%|██████████| 184/184 [00:45<00:00,  4.04it/s]"
     ]
    },
    {
     "name": "stdout",
     "output_type": "stream",
     "text": [
      "train: bce: 0.033493, dice: 0.408311, loss: 0.220902\n"
     ]
    },
    {
     "name": "stderr",
     "output_type": "stream",
     "text": [
      "\n",
      "100%|██████████| 10/10 [00:01<00:00,  6.93it/s]"
     ]
    },
    {
     "name": "stdout",
     "output_type": "stream",
     "text": [
      "val: bce: 0.049409, dice: 0.503025, loss: 0.276217\n",
      "total time taken to run one epoch -- 0m 47s\n",
      "---------------------------------------------------------------------------------\n",
      "Epoch 39/39\n",
      "----------\n",
      "LR 2e-05\n"
     ]
    },
    {
     "name": "stderr",
     "output_type": "stream",
     "text": [
      "\n",
      "100%|██████████| 184/184 [00:46<00:00,  3.94it/s]"
     ]
    },
    {
     "name": "stdout",
     "output_type": "stream",
     "text": [
      "train: bce: 0.033189, dice: 0.408124, loss: 0.220657\n"
     ]
    },
    {
     "name": "stderr",
     "output_type": "stream",
     "text": [
      "\n",
      "100%|██████████| 10/10 [00:01<00:00,  6.62it/s]"
     ]
    },
    {
     "name": "stdout",
     "output_type": "stream",
     "text": [
      "val: bce: 0.049381, dice: 0.498474, loss: 0.273928\n",
      "total time taken to run one epoch -- 0m 48s\n",
      "---------------------------------------------------------------------------------\n",
      "Best val loss: 0.261659\n"
     ]
    },
    {
     "name": "stderr",
     "output_type": "stream",
     "text": [
      "\n"
     ]
    }
   ],
   "source": [
    "optimizer_ft = optim.Adam(filter(lambda p: p.requires_grad,\n",
    "                                 model.parameters()),\n",
    "                          lr=0.0002,\n",
    "                          betas=[0.5, 0.999])\n",
    "\n",
    "exp_lr_scheduler = lr_scheduler.StepLR(optimizer_ft, step_size=30, gamma=0.1)\n",
    "model = train_model(model, optimizer_ft, exp_lr_scheduler, num_epochs=40)"
   ]
  },
  {
   "cell_type": "code",
   "execution_count": 16,
   "metadata": {
    "ExecuteTime": {
     "end_time": "2021-02-07T18:19:23.887490Z",
     "start_time": "2021-02-07T18:19:23.286734Z"
    }
   },
   "outputs": [],
   "source": [
    "torch.save(model.state_dict(), './model_final_dict.pt')"
   ]
  },
  {
   "cell_type": "code",
   "execution_count": 17,
   "metadata": {
    "ExecuteTime": {
     "end_time": "2021-02-07T18:19:24.329901Z",
     "start_time": "2021-02-07T18:19:23.914189Z"
    }
   },
   "outputs": [],
   "source": [
    "torch.save(model,'model_final.pt')"
   ]
  },
  {
   "cell_type": "code",
   "execution_count": null,
   "metadata": {},
   "outputs": [],
   "source": []
  }
 ],
 "metadata": {
  "kernelspec": {
   "display_name": "pytorch",
   "language": "python",
   "name": "pytorch"
  },
  "language_info": {
   "codemirror_mode": {
    "name": "ipython",
    "version": 3
   },
   "file_extension": ".py",
   "mimetype": "text/x-python",
   "name": "python",
   "nbconvert_exporter": "python",
   "pygments_lexer": "ipython3",
   "version": "3.8.5"
  }
 },
 "nbformat": 4,
 "nbformat_minor": 4
}
